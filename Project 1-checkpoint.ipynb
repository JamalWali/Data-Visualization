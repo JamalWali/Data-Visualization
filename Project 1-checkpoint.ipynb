{
 "cells": [
  {
   "cell_type": "markdown",
   "metadata": {},
   "source": [
    "# Part One"
   ]
  },
  {
   "cell_type": "markdown",
   "metadata": {},
   "source": [
    "# Question 1"
   ]
  },
  {
   "cell_type": "code",
   "execution_count": 2,
   "metadata": {},
   "outputs": [],
   "source": [
    "import pandas as pd\n",
    "import numpy as np\n",
    "import matplotlib as plt"
   ]
  },
  {
   "cell_type": "markdown",
   "metadata": {},
   "source": [
    "# Question 2 "
   ]
  },
  {
   "cell_type": "code",
   "execution_count": 3,
   "metadata": {},
   "outputs": [],
   "source": [
    "NaN = 0\n",
    "data = {'country_name':\n",
    "        ['Afghanistan','Albania','Algeria','Andorra','Angola',\n",
    "        'Antigua','Argentina','Armenia','Australia','Austria',\n",
    "        'Azerbaijan','Bhamas','Bahrain','Bangladesh','Barbados','Belarus',\n",
    "         'Belgium','Belize','Benin','Bhutan'],\n",
    "       '<$1.90':['N/A','0.9%','0.5%','N/A','30.1%','N/A','0.6%','1.8%',\n",
    "                '0.3%','0.7%','0.0%','N/A','N/A','14.8%','N/A','0.0',\n",
    "                '0.0','14.9%','49.6%','1.5%'],\n",
    "       '<$3.20':['N/A','4.5%','3.9%','N/A','55.7%','N/A','2.4%','14.1%',\n",
    "                '0.7%','0.7%','0.0%','N/A','N/A','52.9%','N/A','0.0%',\n",
    "                '0.2%','28.4%','76.2%','14.5%'],\n",
    "       '<$5.50': ['N/A','28.8%','29.2%','N/A','79.4%','N/A','7.8%','43.5%',\n",
    "                 '0.7%','0.9%','7.8%','N/A','N/A','84.5%','N/A','0.7%',\n",
    "                 '0.2%','53.2%','90.6%','43.9%'],\n",
    "       'year': [NaN,2015,2011,NaN,2008,NaN,2016,2016,2010,2015,2005,NaN,\n",
    "               NaN,2016,NaN,2016,2015,1999,2015,2017],\n",
    "       'continent':['Asia','Europe','Africa','Europe','Africa',\n",
    "            'North America','South America','Europe','Oceania','Europe',\n",
    "             'Europe','North America','Asia','Asia','North America',\n",
    "                   'Europe','Europe','North America','Africa','Asia']}"
   ]
  },
  {
   "cell_type": "markdown",
   "metadata": {},
   "source": [
    "# 3"
   ]
  },
  {
   "cell_type": "code",
   "execution_count": 4,
   "metadata": {},
   "outputs": [],
   "source": [
    "MAC270 = pd.DataFrame(data,\n",
    "                      columns=['country_name','<$1.90','<$3.20','<$5.50',\n",
    "                              'year','continent'])"
   ]
  },
  {
   "cell_type": "markdown",
   "metadata": {},
   "source": [
    "# 4"
   ]
  },
  {
   "cell_type": "code",
   "execution_count": 5,
   "metadata": {},
   "outputs": [
    {
     "data": {
      "text/plain": [
       "(20, 6)"
      ]
     },
     "execution_count": 5,
     "metadata": {},
     "output_type": "execute_result"
    }
   ],
   "source": [
    "MAC270.shape"
   ]
  },
  {
   "cell_type": "markdown",
   "metadata": {},
   "source": [
    "# 5"
   ]
  },
  {
   "cell_type": "code",
   "execution_count": 6,
   "metadata": {},
   "outputs": [
    {
     "data": {
      "text/plain": [
       "Index(['country_name', '<$1.90', '<$3.20', '<$5.50', 'year', 'continent'], dtype='object')"
      ]
     },
     "execution_count": 6,
     "metadata": {},
     "output_type": "execute_result"
    }
   ],
   "source": [
    "MAC270.columns"
   ]
  },
  {
   "cell_type": "markdown",
   "metadata": {},
   "source": [
    "# 6"
   ]
  },
  {
   "cell_type": "code",
   "execution_count": 7,
   "metadata": {},
   "outputs": [
    {
     "name": "stdout",
     "output_type": "stream",
     "text": [
      "Afghanistan\n",
      "Albania\n",
      "Algeria\n",
      "Andorra\n",
      "Angola\n",
      "Antigua\n",
      "Argentina\n",
      "Armenia\n",
      "Australia\n",
      "Austria\n",
      "Azerbaijan\n",
      "Bhamas\n",
      "Bahrain\n",
      "Bangladesh\n",
      "Barbados\n",
      "Belarus\n",
      "Belgium\n",
      "Belize\n",
      "Benin\n",
      "Bhutan\n"
     ]
    }
   ],
   "source": [
    "for ind in range(0,len(MAC270)):\n",
    "    print(MAC270['country_name'][ind])"
   ]
  },
  {
   "cell_type": "markdown",
   "metadata": {},
   "source": [
    "# 7"
   ]
  },
  {
   "cell_type": "code",
   "execution_count": 8,
   "metadata": {},
   "outputs": [
    {
     "data": {
      "text/html": [
       "<div>\n",
       "<style scoped>\n",
       "    .dataframe tbody tr th:only-of-type {\n",
       "        vertical-align: middle;\n",
       "    }\n",
       "\n",
       "    .dataframe tbody tr th {\n",
       "        vertical-align: top;\n",
       "    }\n",
       "\n",
       "    .dataframe thead th {\n",
       "        text-align: right;\n",
       "    }\n",
       "</style>\n",
       "<table border=\"1\" class=\"dataframe\">\n",
       "  <thead>\n",
       "    <tr style=\"text-align: right;\">\n",
       "      <th></th>\n",
       "      <th>country_name</th>\n",
       "      <th>&lt;$1.90</th>\n",
       "      <th>&lt;$3.20</th>\n",
       "      <th>&lt;$5.50</th>\n",
       "      <th>year</th>\n",
       "      <th>continent</th>\n",
       "    </tr>\n",
       "  </thead>\n",
       "  <tbody>\n",
       "    <tr>\n",
       "      <th>0</th>\n",
       "      <td>Afghanistan</td>\n",
       "      <td>N/A</td>\n",
       "      <td>N/A</td>\n",
       "      <td>N/A</td>\n",
       "      <td>0</td>\n",
       "      <td>Asia</td>\n",
       "    </tr>\n",
       "    <tr>\n",
       "      <th>1</th>\n",
       "      <td>Albania</td>\n",
       "      <td>0.9%</td>\n",
       "      <td>4.5%</td>\n",
       "      <td>28.8%</td>\n",
       "      <td>2015</td>\n",
       "      <td>Europe</td>\n",
       "    </tr>\n",
       "    <tr>\n",
       "      <th>2</th>\n",
       "      <td>Algeria</td>\n",
       "      <td>0.5%</td>\n",
       "      <td>3.9%</td>\n",
       "      <td>29.2%</td>\n",
       "      <td>2011</td>\n",
       "      <td>Africa</td>\n",
       "    </tr>\n",
       "  </tbody>\n",
       "</table>\n",
       "</div>"
      ],
      "text/plain": [
       "  country_name <$1.90 <$3.20 <$5.50  year continent\n",
       "0  Afghanistan    N/A    N/A    N/A     0      Asia\n",
       "1      Albania   0.9%   4.5%  28.8%  2015    Europe\n",
       "2      Algeria   0.5%   3.9%  29.2%  2011    Africa"
      ]
     },
     "execution_count": 8,
     "metadata": {},
     "output_type": "execute_result"
    }
   ],
   "source": [
    "MAC270.head(3)"
   ]
  },
  {
   "cell_type": "markdown",
   "metadata": {},
   "source": [
    "# 8"
   ]
  },
  {
   "cell_type": "code",
   "execution_count": 29,
   "metadata": {
    "scrolled": true
   },
   "outputs": [
    {
     "data": {
      "text/html": [
       "<div>\n",
       "<style scoped>\n",
       "    .dataframe tbody tr th:only-of-type {\n",
       "        vertical-align: middle;\n",
       "    }\n",
       "\n",
       "    .dataframe tbody tr th {\n",
       "        vertical-align: top;\n",
       "    }\n",
       "\n",
       "    .dataframe thead th {\n",
       "        text-align: right;\n",
       "    }\n",
       "</style>\n",
       "<table border=\"1\" class=\"dataframe\">\n",
       "  <thead>\n",
       "    <tr style=\"text-align: right;\">\n",
       "      <th></th>\n",
       "      <th>country_name</th>\n",
       "      <th>&lt;$1.90</th>\n",
       "      <th>&lt;$3.20</th>\n",
       "      <th>&lt;$5.50</th>\n",
       "      <th>year</th>\n",
       "      <th>continent</th>\n",
       "      <th>new_col</th>\n",
       "      <th>Median_Male_Age</th>\n",
       "    </tr>\n",
       "  </thead>\n",
       "  <tbody>\n",
       "    <tr>\n",
       "      <th>15</th>\n",
       "      <td>Belarus</td>\n",
       "      <td>0.0</td>\n",
       "      <td>0.0%</td>\n",
       "      <td>0.7%</td>\n",
       "      <td>2016</td>\n",
       "      <td>Europe</td>\n",
       "      <td>65</td>\n",
       "      <td>37</td>\n",
       "    </tr>\n",
       "    <tr>\n",
       "      <th>16</th>\n",
       "      <td>Belgium</td>\n",
       "      <td>0.0</td>\n",
       "      <td>0.2%</td>\n",
       "      <td>0.2%</td>\n",
       "      <td>2015</td>\n",
       "      <td>Europe</td>\n",
       "      <td>23</td>\n",
       "      <td>40</td>\n",
       "    </tr>\n",
       "    <tr>\n",
       "      <th>17</th>\n",
       "      <td>Belize</td>\n",
       "      <td>14.9%</td>\n",
       "      <td>28.4%</td>\n",
       "      <td>53.2%</td>\n",
       "      <td>1999</td>\n",
       "      <td>North America</td>\n",
       "      <td>45</td>\n",
       "      <td>22</td>\n",
       "    </tr>\n",
       "    <tr>\n",
       "      <th>18</th>\n",
       "      <td>Benin</td>\n",
       "      <td>49.6%</td>\n",
       "      <td>76.2%</td>\n",
       "      <td>90.6%</td>\n",
       "      <td>2015</td>\n",
       "      <td>Africa</td>\n",
       "      <td>67</td>\n",
       "      <td>18</td>\n",
       "    </tr>\n",
       "    <tr>\n",
       "      <th>19</th>\n",
       "      <td>Bhutan</td>\n",
       "      <td>1.5%</td>\n",
       "      <td>14.5%</td>\n",
       "      <td>43.9%</td>\n",
       "      <td>2017</td>\n",
       "      <td>Asia</td>\n",
       "      <td>78</td>\n",
       "      <td>28</td>\n",
       "    </tr>\n",
       "  </tbody>\n",
       "</table>\n",
       "</div>"
      ],
      "text/plain": [
       "   country_name <$1.90 <$3.20 <$5.50  year      continent  new_col  \\\n",
       "15      Belarus    0.0   0.0%   0.7%  2016         Europe       65   \n",
       "16      Belgium    0.0   0.2%   0.2%  2015         Europe       23   \n",
       "17       Belize  14.9%  28.4%  53.2%  1999  North America       45   \n",
       "18        Benin  49.6%  76.2%  90.6%  2015         Africa       67   \n",
       "19       Bhutan   1.5%  14.5%  43.9%  2017           Asia       78   \n",
       "\n",
       "    Median_Male_Age  \n",
       "15               37  \n",
       "16               40  \n",
       "17               22  \n",
       "18               18  \n",
       "19               28  "
      ]
     },
     "execution_count": 29,
     "metadata": {},
     "output_type": "execute_result"
    }
   ],
   "source": [
    "MAC270.tail()"
   ]
  },
  {
   "cell_type": "markdown",
   "metadata": {},
   "source": [
    "# 9"
   ]
  },
  {
   "cell_type": "code",
   "execution_count": 30,
   "metadata": {},
   "outputs": [],
   "source": [
    "new = [18,31,27,44,15,30,30,33,38,29,30,31,33,26,37,37,40,22,18,28]\n",
    "MAC270['Median_Male_Age'] = new"
   ]
  },
  {
   "cell_type": "code",
   "execution_count": 31,
   "metadata": {},
   "outputs": [
    {
     "data": {
      "text/html": [
       "<div>\n",
       "<style scoped>\n",
       "    .dataframe tbody tr th:only-of-type {\n",
       "        vertical-align: middle;\n",
       "    }\n",
       "\n",
       "    .dataframe tbody tr th {\n",
       "        vertical-align: top;\n",
       "    }\n",
       "\n",
       "    .dataframe thead th {\n",
       "        text-align: right;\n",
       "    }\n",
       "</style>\n",
       "<table border=\"1\" class=\"dataframe\">\n",
       "  <thead>\n",
       "    <tr style=\"text-align: right;\">\n",
       "      <th></th>\n",
       "      <th>country_name</th>\n",
       "      <th>&lt;$1.90</th>\n",
       "      <th>&lt;$3.20</th>\n",
       "      <th>&lt;$5.50</th>\n",
       "      <th>year</th>\n",
       "      <th>continent</th>\n",
       "      <th>new_col</th>\n",
       "      <th>Median_Male_Age</th>\n",
       "    </tr>\n",
       "  </thead>\n",
       "  <tbody>\n",
       "    <tr>\n",
       "      <th>0</th>\n",
       "      <td>Afghanistan</td>\n",
       "      <td>N/A</td>\n",
       "      <td>N/A</td>\n",
       "      <td>N/A</td>\n",
       "      <td>0</td>\n",
       "      <td>Asia</td>\n",
       "      <td>2</td>\n",
       "      <td>18</td>\n",
       "    </tr>\n",
       "    <tr>\n",
       "      <th>1</th>\n",
       "      <td>Albania</td>\n",
       "      <td>0.9%</td>\n",
       "      <td>4.5%</td>\n",
       "      <td>28.8%</td>\n",
       "      <td>2015</td>\n",
       "      <td>Europe</td>\n",
       "      <td>3</td>\n",
       "      <td>31</td>\n",
       "    </tr>\n",
       "    <tr>\n",
       "      <th>2</th>\n",
       "      <td>Algeria</td>\n",
       "      <td>0.5%</td>\n",
       "      <td>3.9%</td>\n",
       "      <td>29.2%</td>\n",
       "      <td>2011</td>\n",
       "      <td>Africa</td>\n",
       "      <td>4</td>\n",
       "      <td>27</td>\n",
       "    </tr>\n",
       "    <tr>\n",
       "      <th>3</th>\n",
       "      <td>Andorra</td>\n",
       "      <td>N/A</td>\n",
       "      <td>N/A</td>\n",
       "      <td>N/A</td>\n",
       "      <td>0</td>\n",
       "      <td>Europe</td>\n",
       "      <td>3</td>\n",
       "      <td>44</td>\n",
       "    </tr>\n",
       "    <tr>\n",
       "      <th>4</th>\n",
       "      <td>Angola</td>\n",
       "      <td>30.1%</td>\n",
       "      <td>55.7%</td>\n",
       "      <td>79.4%</td>\n",
       "      <td>2008</td>\n",
       "      <td>Africa</td>\n",
       "      <td>21</td>\n",
       "      <td>15</td>\n",
       "    </tr>\n",
       "  </tbody>\n",
       "</table>\n",
       "</div>"
      ],
      "text/plain": [
       "  country_name <$1.90 <$3.20 <$5.50  year continent  new_col  Median_Male_Age\n",
       "0  Afghanistan    N/A    N/A    N/A     0      Asia        2               18\n",
       "1      Albania   0.9%   4.5%  28.8%  2015    Europe        3               31\n",
       "2      Algeria   0.5%   3.9%  29.2%  2011    Africa        4               27\n",
       "3      Andorra    N/A    N/A    N/A     0    Europe        3               44\n",
       "4       Angola  30.1%  55.7%  79.4%  2008    Africa       21               15"
      ]
     },
     "execution_count": 31,
     "metadata": {},
     "output_type": "execute_result"
    }
   ],
   "source": [
    "MAC270.head(5)"
   ]
  },
  {
   "cell_type": "code",
   "execution_count": 35,
   "metadata": {},
   "outputs": [
    {
     "data": {
      "text/plain": [
       "(0     Afghanistan\n",
       " 1         Albania\n",
       " 2         Algeria\n",
       " 3         Andorra\n",
       " 4          Angola\n",
       " 5         Antigua\n",
       " 6       Argentina\n",
       " 7         Armenia\n",
       " 8       Australia\n",
       " 9         Austria\n",
       " 10     Azerbaijan\n",
       " 11         Bhamas\n",
       " 12        Bahrain\n",
       " 13     Bangladesh\n",
       " 14       Barbados\n",
       " 15        Belarus\n",
       " 16        Belgium\n",
       " 17         Belize\n",
       " 18          Benin\n",
       " 19         Bhutan\n",
       " Name: country_name, dtype: object, ['<$1.90'])"
      ]
     },
     "execution_count": 35,
     "metadata": {},
     "output_type": "execute_result"
    }
   ],
   "source": [
    "MAC270['country_name'],['<$1.90']"
   ]
  },
  {
   "cell_type": "code",
   "execution_count": null,
   "metadata": {},
   "outputs": [],
   "source": []
  },
  {
   "cell_type": "code",
   "execution_count": null,
   "metadata": {},
   "outputs": [],
   "source": []
  }
 ],
 "metadata": {
  "kernelspec": {
   "display_name": "Python 3",
   "language": "python",
   "name": "python3"
  },
  "language_info": {
   "codemirror_mode": {
    "name": "ipython",
    "version": 3
   },
   "file_extension": ".py",
   "mimetype": "text/x-python",
   "name": "python",
   "nbconvert_exporter": "python",
   "pygments_lexer": "ipython3",
   "version": "3.7.1"
  }
 },
 "nbformat": 4,
 "nbformat_minor": 2
}
